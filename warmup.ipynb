{
 "cells": [
  {
   "cell_type": "markdown",
   "metadata": {},
   "source": [
    "# Warm-Up: Jupyter Notebooks and Python Dictionaries\n",
    "\n",
    "Use this notebook to check your VS Code and Python installation. You should be able to view this file in VS Code and execute the cell below by clicking the \"run\" button. You will have to select a Python kernel. The output should look like this:\n",
    "\n",
    "```\n",
    "Nikola Tesla was born in 1856.\n",
    "Thomas Edison was born in 1847.\n",
    "Albert Einstein was born in 1879.\n",
    "Isaac Newton was born in 1643.\n",
    "Leonardo da Vinci was born in 1452.\n",
    "```"
   ]
  },
  {
   "cell_type": "code",
   "execution_count": null,
   "metadata": {},
   "outputs": [],
   "source": [
    "engineers = {\n",
    "    'Nikola Tesla': 1856,\n",
    "    'Thomas Edison': 1847,\n",
    "    'Albert Einstein': 1879,\n",
    "    'Isaac Newton': 1643,\n",
    "    'Leonardo da Vinci': 1452,\n",
    "}\n",
    "\n",
    "for engineer, birth_year in engineers.items():\n",
    "    print(f'{engineer} was born in {birth_year}.')"
   ]
  }
 ],
 "metadata": {
  "kernelspec": {
   "display_name": "mude",
   "language": "python",
   "name": "python3"
  },
  "language_info": {
   "codemirror_mode": {
    "name": "ipython",
    "version": 3
   },
   "file_extension": ".py",
   "mimetype": "text/x-python",
   "name": "python",
   "nbconvert_exporter": "python",
   "pygments_lexer": "ipython3",
   "version": "3.11.4"
  }
 },
 "nbformat": 4,
 "nbformat_minor": 2
}
